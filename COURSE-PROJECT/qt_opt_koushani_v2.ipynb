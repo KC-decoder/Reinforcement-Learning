{
  "cells": [
    {
      "cell_type": "code",
      "execution_count": 10,
      "metadata": {
        "colab": {
          "base_uri": "https://localhost:8080/"
        },
        "id": "NSIkokuLC5Nu",
        "outputId": "88bff88e-173a-4c50-d2b2-47eeb8904bbd"
      },
      "outputs": [
        {
          "output_type": "stream",
          "name": "stdout",
          "text": [
            "Looking in indexes: https://pypi.org/simple, https://us-python.pkg.dev/colab-wheels/public/simple/\n",
            "Requirement already satisfied: gym[box2d] in /usr/local/lib/python3.7/dist-packages (0.25.2)\n",
            "Requirement already satisfied: importlib-metadata>=4.8.0 in /usr/local/lib/python3.7/dist-packages (from gym[box2d]) (4.13.0)\n",
            "Requirement already satisfied: numpy>=1.18.0 in /usr/local/lib/python3.7/dist-packages (from gym[box2d]) (1.21.6)\n",
            "Requirement already satisfied: cloudpickle>=1.2.0 in /usr/local/lib/python3.7/dist-packages (from gym[box2d]) (1.5.0)\n",
            "Requirement already satisfied: gym-notices>=0.0.4 in /usr/local/lib/python3.7/dist-packages (from gym[box2d]) (0.0.8)\n",
            "Collecting pygame==2.1.0\n",
            "  Downloading pygame-2.1.0-cp37-cp37m-manylinux_2_17_x86_64.manylinux2014_x86_64.whl (18.3 MB)\n",
            "\u001b[K     |████████████████████████████████| 18.3 MB 99 kB/s \n",
            "\u001b[?25hCollecting box2d-py==2.3.5\n",
            "  Downloading box2d_py-2.3.5-cp37-cp37m-manylinux1_x86_64.whl (2.1 MB)\n",
            "\u001b[K     |████████████████████████████████| 2.1 MB 47.4 MB/s \n",
            "\u001b[?25hCollecting swig==4.*\n",
            "  Downloading swig-4.1.0-py2.py3-none-manylinux_2_5_x86_64.manylinux1_x86_64.whl (1.8 MB)\n",
            "\u001b[K     |████████████████████████████████| 1.8 MB 52.3 MB/s \n",
            "\u001b[?25hRequirement already satisfied: typing-extensions>=3.6.4 in /usr/local/lib/python3.7/dist-packages (from importlib-metadata>=4.8.0->gym[box2d]) (4.1.1)\n",
            "Requirement already satisfied: zipp>=0.5 in /usr/local/lib/python3.7/dist-packages (from importlib-metadata>=4.8.0->gym[box2d]) (3.10.0)\n",
            "Installing collected packages: swig, pygame, box2d-py\n",
            "Successfully installed box2d-py-2.3.5 pygame-2.1.0 swig-4.1.0\n"
          ]
        }
      ],
      "source": [
        "!pip install gym[box2d]"
      ]
    },
    {
      "cell_type": "code",
      "source": [
        "import math\n",
        "import random\n",
        "import argparse\n",
        "\n",
        "import gym\n",
        "import numpy as np\n",
        "\n",
        "import torch\n",
        "import torch.nn as nn\n",
        "import torch.optim as optim\n",
        "import torch.nn.functional as F\n",
        "from torch.distributions import Normal\n",
        "from torch.distributions import Categorical\n",
        "from collections import namedtuple\n",
        "\n",
        "from IPython.display import clear_output\n",
        "import matplotlib.pyplot as plt\n",
        "from matplotlib import animation\n",
        "from IPython.display import display\n"
      ],
      "metadata": {
        "id": "uRpEIJrtC6d6"
      },
      "execution_count": 2,
      "outputs": []
    },
    {
      "cell_type": "code",
      "execution_count": 3,
      "metadata": {
        "colab": {
          "base_uri": "https://localhost:8080/"
        },
        "id": "_FyGJhS1C5Nw",
        "outputId": "133a4c14-fb9f-4bda-b4b3-f78a60fd18df"
      },
      "outputs": [
        {
          "output_type": "stream",
          "name": "stdout",
          "text": [
            "cpu\n"
          ]
        }
      ],
      "source": [
        "GPU = True\n",
        "device_idx = 0\n",
        "if GPU:\n",
        "    device = torch.device(\"cuda:\" + str(device_idx) if torch.cuda.is_available() else \"cpu\")\n",
        "else:\n",
        "    device = torch.device(\"cpu\")\n",
        "print(device)"
      ]
    },
    {
      "cell_type": "code",
      "execution_count": 4,
      "metadata": {
        "id": "nRewSIecC5Nx"
      },
      "outputs": [],
      "source": [
        "class ReplayBuffer:\n",
        "    def __init__(self, capacity):\n",
        "        self.capacity = capacity\n",
        "        self.buffer = []\n",
        "        self.position = 0\n",
        "    \n",
        "    def push(self, state, action, reward, next_state, done):\n",
        "        if len(self.buffer) < self.capacity:\n",
        "            self.buffer.append(None)\n",
        "        self.buffer[self.position] = (state, action, reward, next_state, done)\n",
        "        self.position = int((self.position + 1) % self.capacity)  # as a ring buffer\n",
        "    \n",
        "    def sample(self, batch_size):\n",
        "        batch = random.sample(self.buffer, batch_size)\n",
        "        state, action, reward, next_state, done = map(np.stack, zip(*batch)) # stack for each element\n",
        "        ''' \n",
        "        the * serves as unpack: sum(a,b) <=> batch=(a,b), sum(*batch) ;\n",
        "        zip: a=[1,2], b=[2,3], zip(a,b) => [(1, 2), (2, 3)] ;\n",
        "        the map serves as mapping the function on each list element: map(square, [2,3]) => [4,9] ;\n",
        "        np.stack((1,2)) => array([1, 2])\n",
        "        '''\n",
        "        return state, action, reward, next_state, done\n",
        "    \n",
        "    def __len__(self):\n",
        "        return len(self.buffer)\n"
      ]
    },
    {
      "cell_type": "code",
      "execution_count": 5,
      "metadata": {
        "id": "ECq7k-a_C5Ny"
      },
      "outputs": [],
      "source": [
        "class ContinuousActionLinearPolicy(object):\n",
        "    def __init__(self, theta, state_dim, action_dim):\n",
        "        assert len(theta) == (state_dim + 1) * action_dim\n",
        "        self.W = theta[0 : state_dim * action_dim].reshape(state_dim, action_dim)\n",
        "        self.b = theta[state_dim * action_dim : None].reshape(1, action_dim)\n",
        "    def act(self, state):\n",
        "        # a = state.dot(self.W) + self.b\n",
        "        a = np.dot(state, self.W) + self.b\n",
        "        return a\n",
        "    def update(self, theta):\n",
        "        self.W = theta[0 : state_dim * action_dim].reshape(state_dim, action_dim)\n",
        "        self.b = theta[state_dim * action_dim : None].reshape(1, action_dim)"
      ]
    },
    {
      "cell_type": "code",
      "execution_count": 6,
      "metadata": {
        "id": "h30HXbpeC5Nz"
      },
      "outputs": [],
      "source": [
        "class CEM():\n",
        "    ''' \n",
        "    cross-entropy method, as optimization of the action policy \n",
        "    '''\n",
        "    def __init__(self, theta_dim, ini_mean_scale=0.0, ini_std_scale=1.0):\n",
        "        self.theta_dim = theta_dim\n",
        "        self.initialize(ini_mean_scale=ini_mean_scale, ini_std_scale=ini_std_scale)\n",
        "\n",
        "    def initialize(self, ini_mean_scale=0.0, ini_std_scale=1.0):\n",
        "        self.mean = ini_mean_scale*np.ones(self.theta_dim)\n",
        "        self.std = ini_std_scale*np.ones(self.theta_dim)\n",
        "        \n",
        "    def sample(self):\n",
        "        # theta = self.mean + np.random.randn(self.theta_dim) * self.std\n",
        "        theta = self.mean + np.random.normal(size=self.theta_dim) * self.std\n",
        "        return theta\n",
        "\n",
        "    def sample_multi(self, n):\n",
        "        theta_list=[]\n",
        "        for i in range(n):\n",
        "            theta_list.append(self.sample())\n",
        "        return np.array(theta_list)\n",
        "\n",
        "\n",
        "    def update(self, selected_samples):\n",
        "        self.mean = np.mean(selected_samples, axis = 0)\n",
        "        # print('mean: ', self.mean)\n",
        "        self.std = np.std(selected_samples, axis = 0)  # plus the entropy offset, or else easily get 0 std\n",
        "        # print('std: ', self.std)\n",
        "\n",
        "        return self.mean, self.std"
      ]
    },
    {
      "cell_type": "code",
      "execution_count": 7,
      "metadata": {
        "id": "_WUN7ha2C5Nz"
      },
      "outputs": [],
      "source": [
        "class QNetwork(nn.Module):\n",
        "    def __init__(self, input_dim, hidden_dim, init_w=3e-3):\n",
        "        super(QNetwork, self).__init__()\n",
        "        \n",
        "        self.linear1 = nn.Linear(input_dim, hidden_dim)\n",
        "        self.linear2 = nn.Linear(hidden_dim, hidden_dim)\n",
        "        self.linear3 = nn.Linear(hidden_dim, 1)\n",
        "        \n",
        "        self.linear3.weight.data.uniform_(-init_w, init_w)\n",
        "        self.linear3.bias.data.uniform_(-init_w, init_w)\n",
        "        \n",
        "    def forward(self, state, action):\n",
        "        x = torch.cat([state, action], 1) # the dim 0 is number of samples\n",
        "        x = F.relu(self.linear1(x))\n",
        "        x = F.relu(self.linear2(x))\n",
        "        x = self.linear3(x)\n",
        "        return x"
      ]
    },
    {
      "cell_type": "code",
      "execution_count": 36,
      "metadata": {
        "id": "UzlswvTwC5N0"
      },
      "outputs": [],
      "source": [
        "class QT_Opt():\n",
        "    def __init__(self, replay_buffer, hidden_dim, q_lr=3e-4, cem_update_itr=2, select_num=6, num_samples=64):\n",
        "        self.num_samples = num_samples\n",
        "        self.select_num = select_num\n",
        "        self.cem_update_itr = cem_update_itr\n",
        "        self.replay_buffer = replay_buffer\n",
        "        self.qnet = QNetwork(state_dim+action_dim, hidden_dim).to(device) # gpu\n",
        "        self.target_qnet1 = QNetwork(state_dim+action_dim, hidden_dim).to(device)\n",
        "        self.target_qnet2 = QNetwork(state_dim+action_dim, hidden_dim).to(device)\n",
        "        self.cem = CEM(theta_dim = action_dim)  # cross-entropy method for updating\n",
        "\n",
        "        self.q_optimizer = optim.Adam(self.qnet.parameters(), lr=q_lr)\n",
        "        self.step_cnt = 0\n",
        "\n",
        "    def update(self, batch_size, gamma=0.9, soft_tau=1e-2, update_delay=100):\n",
        "        state, action, reward, next_state, done = self.replay_buffer.sample(batch_size)\n",
        "        self.step_cnt+=1\n",
        "\n",
        "        \n",
        "        state_      = torch.FloatTensor(state).to(device)\n",
        "        next_state_ = torch.FloatTensor(next_state).to(device)\n",
        "        action     = torch.FloatTensor(action).to(device)\n",
        "        reward     = torch.FloatTensor(reward).unsqueeze(1).to(device)  # reward is single value, unsqueeze() to add one dim to be [reward] at the sample dim;\n",
        "        done       = torch.FloatTensor(np.float32(done)).unsqueeze(1).to(device)\n",
        "\n",
        "        predict_q = self.qnet(state_, action) # predicted Q(s,a) value\n",
        "\n",
        "        # get argmax_a' from the CEM for the target Q(s', a')\n",
        "        new_next_action = []\n",
        "        for i in range(batch_size):      # batch of states, use them one by one, to prevent the lack of memory\n",
        "            new_next_action.append(self.cem_optimal_action(next_state[i]))\n",
        "        new_next_action=torch.FloatTensor(new_next_action).to(device)\n",
        "\n",
        "        target_q_min = torch.min(self.target_qnet1(next_state_, new_next_action), self.target_qnet2(next_state_, new_next_action))\n",
        "        target_q = reward + (1-done)*gamma*target_q_min\n",
        "\n",
        "        q_loss = ((predict_q - target_q.detach())**2).mean()  # MSE loss, note that original paper uses cross-entropy loss\n",
        "        print(q_loss)\n",
        "        self.q_optimizer.zero_grad()\n",
        "        q_loss.backward()\n",
        "        self.q_optimizer.step()\n",
        "\n",
        "        # update the target nets, according to original paper:\n",
        "        # one with Polyak averaging, another with lagged/delayed update\n",
        "        self.target_qnet1=self.target_soft_update(self.qnet, self.target_qnet1, soft_tau)\n",
        "        self.target_qnet2=self.target_delayed_update(self.qnet, self.target_qnet2, update_delay)\n",
        "    \n",
        "\n",
        "\n",
        "    def cem_optimal_action(self, state):\n",
        "        ''' evaluate action wrt Q(s,a) to select the optimal using CEM '''\n",
        "        cuda_states = torch.FloatTensor(np.vstack([state]*self.num_samples)).to(device)\n",
        "        self.cem.initialize() # every time use a new cem, cem is only for deriving the argmax_a'\n",
        "        for itr in range(self.cem_update_itr):\n",
        "            actions = self.cem.sample_multi(self.num_samples)\n",
        "            q_values = self.target_qnet1(cuda_states, torch.FloatTensor(actions).to(device)).detach().cpu().numpy().reshape(-1) # 2 dim to 1 dim\n",
        "            max_idx=q_values.argsort()[-1]  # select one maximal q\n",
        "            idx = q_values.argsort()[-int(self.select_num):]  # select top maximum q\n",
        "            selected_actions = actions[idx]\n",
        "            _,_=self.cem.update(selected_actions)\n",
        "        optimal_action = actions[max_idx]\n",
        "        return optimal_action\n",
        " \n",
        "\n",
        "    def target_soft_update(self, net, target_net, soft_tau):\n",
        "        ''' Soft update the target net '''\n",
        "        for target_param, param in zip(target_net.parameters(), net.parameters()):\n",
        "            target_param.data.copy_(  # copy data value into target parameters\n",
        "                target_param.data * (1.0 - soft_tau) + param.data * soft_tau\n",
        "            )\n",
        "\n",
        "        return target_net\n",
        "\n",
        "    def target_delayed_update(self, net, target_net, update_delay):\n",
        "        ''' delayed update the target net '''\n",
        "        if self.step_cnt%update_delay == 0:\n",
        "            for target_param, param in zip(target_net.parameters(), net.parameters()):\n",
        "                target_param.data.copy_(  # copy data value into target parameters\n",
        "                    param.data \n",
        "                )\n",
        "\n",
        "        return target_net\n",
        "\n",
        "\n",
        "\n",
        "\n",
        "\n",
        "    def train(self):\n",
        "\n",
        "      # hyper-parameters\n",
        "        max_episodes  = 100\n",
        "        max_steps   = 20  # Pendulum needs 150 steps per episode to learn well, cannot handle 20\n",
        "        frame_idx   = 0\n",
        "        episode_rewards = []\n",
        "\n",
        "        for i_episode in range (max_episodes):\n",
        "            \n",
        "            if ENV == 'Bipedal':\n",
        "                state =  env.reset()\n",
        "            episode_reward = 0\n",
        "\n",
        "            for step in range(max_steps):\n",
        "                # action = qt_opt.policy.act(state)  \n",
        "                action = qt_opt.cem_optimal_action(state)\n",
        "                # print(action)\n",
        "                if ENV ==  'Bipedal':\n",
        "                    next_state, reward, done, _ = env.step(action) \n",
        "                    #env.render()\n",
        "                episode_reward += reward\n",
        "                replay_buffer.push(state, action, reward, next_state, done)\n",
        "                state = next_state\n",
        "\n",
        "            if len(replay_buffer) > batch_size:\n",
        "                self.update(batch_size)\n",
        "                self.save_model(model_path)\n",
        "\n",
        "            episode_rewards.append(episode_reward)\n",
        "                \n",
        "            print('Episode: {}  | Reward:  {}'.format(i_episode, episode_reward))\n",
        "        self.plot(episode_rewards)\n",
        "\n",
        "\n",
        "\n",
        "\n",
        "    def test(self,model_path):\n",
        "\n",
        "        qt_opt.load_model(model_path)\n",
        "        # hyper-parameters\n",
        "        max_episodes  = 100\n",
        "        max_steps   = 20   # Pendulum needs 150 steps per episode to learn well, cannot handle 20\n",
        "        frame_idx   = 0\n",
        "        episode_rewards = []\n",
        "\n",
        "        for i_episode in range (max_episodes):\n",
        "            \n",
        "            if ENV == 'Bipedal':\n",
        "                state =  env.reset()\n",
        "            episode_reward = 0\n",
        "\n",
        "            for step in range(max_steps):\n",
        "                # action = qt_opt.policy.act(state)  \n",
        "                action = qt_opt.cem_optimal_action(state)\n",
        "                if ENV ==  'Bipedal':\n",
        "                    next_state, reward, done, _ = env.step(action)  \n",
        "                    #env.render()               \n",
        "                episode_reward += reward\n",
        "                state = next_state\n",
        "\n",
        "            episode_rewards.append(episode_reward)\n",
        "            self.plot(episode_rewards)\n",
        "            print('Episode: {}  | Reward:  {}'.format(i_episode, episode_reward))\n",
        "\n",
        "\n",
        "\n",
        "\n",
        "\n",
        "\n",
        "\n",
        "    def save_model(self, path):\n",
        "        torch.save(self.qnet.state_dict(), path)\n",
        "        torch.save(self.target_qnet1.state_dict(), path)\n",
        "        torch.save(self.target_qnet2.state_dict(), path)\n",
        "\n",
        "\n",
        "\n",
        "\n",
        "\n",
        "\n",
        "\n",
        "    def load_model(self, path):\n",
        "        self.qnet.load_state_dict(torch.load(path))\n",
        "        self.target_qnet1.load_state_dict(torch.load(path))\n",
        "        self.target_qnet2.load_state_dict(torch.load(path))\n",
        "        self.qnet.eval()\n",
        "        self.target_qnet1.eval()\n",
        "        self.target_qnet2.eval()\n",
        "\n",
        "\n",
        "\n",
        "\n",
        "\n",
        "\n",
        "    def plot(aelf,rewards):\n",
        "        clear_output(True)\n",
        "        plt.figure(figsize=(20,5))\n",
        "        # plt.subplot(131)\n",
        "        plt.plot(rewards)\n",
        "        plt.savefig('qt_opt_v3.png')\n",
        "        # plt.show()"
      ]
    },
    {
      "cell_type": "code",
      "execution_count": 37,
      "metadata": {
        "colab": {
          "base_uri": "https://localhost:8080/",
          "height": 279
        },
        "id": "8pN0WtXpC5N1",
        "outputId": "1db0306b-e56c-4bde-a981-925efcffdb8e"
      },
      "outputs": [
        {
          "output_type": "display_data",
          "data": {
            "text/plain": [
              "<Figure size 1440x360 with 1 Axes>"
            ],
            "image/png": "[encoded data removed]"
          },
          "metadata": {
            "needs_background": "light"
          }
        }
      ],
      "source": [
        "ENV = ['Bipedal'][0]\n",
        "for e in ENV:\n",
        "    if ENV == 'Bipedal':\n",
        "        env = gym.make(\"BipedalWalker-v3\")\n",
        "        action_dim = env.action_space.shape[0]\n",
        "        state_dim  = env.observation_space.shape[0]\n",
        "        action_range=1.\n",
        "\n",
        "\n",
        "hidden_dim = 512\n",
        "batch_size=100\n",
        "model_path = '/content/drive/MyDrive/Colab_data/QT_OPT/model_3'\n",
        "\n",
        "replay_buffer_size = 5e5\n",
        "replay_buffer = ReplayBuffer(replay_buffer_size)\n",
        "\n",
        "qt_opt = QT_Opt(replay_buffer, hidden_dim)\n",
        "qt_opt.train()\n",
        "    \n",
        " "
      ]
    },
    {
      "cell_type": "code",
      "source": [
        "from google.colab import drive\n",
        "drive.mount('/content/drive')"
      ],
      "metadata": {
        "colab": {
          "base_uri": "https://localhost:8080/"
        },
        "id": "l2uYxQIkKvtE",
        "outputId": "37287e72-c50b-4e8c-d573-31c1fbc3f6fe"
      },
      "execution_count": 22,
      "outputs": [
        {
          "output_type": "stream",
          "name": "stdout",
          "text": [
            "Mounted at /content/drive\n"
          ]
        }
      ]
    },
    {
      "cell_type": "code",
      "source": [
        "'''   if args.train:\n",
        "        # hyper-parameters\n",
        "        max_episodes  = 2000\n",
        "        max_steps   = 20  # Pendulum needs 150 steps per episode to learn well, cannot handle 20\n",
        "        frame_idx   = 0\n",
        "        episode_rewards = []\n",
        "\n",
        "        for i_episode in range (max_episodes):\n",
        "            \n",
        "            if ENV == 'Bipedal':\n",
        "                state =  env.reset()\n",
        "            episode_reward = 0\n",
        "\n",
        "            for step in range(max_steps):\n",
        "                # action = qt_opt.policy.act(state)  \n",
        "                action = qt_opt.cem_optimal_action(state)\n",
        "                if ENV ==  'Bipedal':\n",
        "                    next_state, reward, done, _ = env.step(action) \n",
        "                    env.render()\n",
        "                episode_reward += reward\n",
        "                replay_buffer.push(state, action, reward, next_state, done)\n",
        "                state = next_state\n",
        "\n",
        "            if len(replay_buffer) > batch_size:\n",
        "                qt_opt.update(batch_size)\n",
        "                qt_opt.save_model(model_path)\n",
        "\n",
        "            episode_rewards.append(episode_reward)\n",
        "            \n",
        "            if i_episode% 10==0:\n",
        "                qt_opt.plot(episode_rewards)\n",
        "                \n",
        "            print('Episode: {}  | Reward:  {}'.format(i_episode, episode_reward)) \n",
        "    \n",
        "    if args.test:\n",
        "        qt_opt.load_model(model_path)\n",
        "        # hyper-parameters\n",
        "        max_episodes  = 2\n",
        "        max_steps   = 20   # Pendulum needs 150 steps per episode to learn well, cannot handle 20\n",
        "        frame_idx   = 0\n",
        "        episode_rewards = []\n",
        "\n",
        "        for i_episode in range (max_episodes):\n",
        "            \n",
        "            if ENV == 'Bipedal':\n",
        "                state =  env.reset()\n",
        "            episode_reward = 0\n",
        "\n",
        "            for step in range(max_steps):\n",
        "                # action = qt_opt.policy.act(state)  \n",
        "                action = qt_opt.cem_optimal_action(state)\n",
        "                if ENV ==  'Bipedal':\n",
        "                    next_state, reward, done, _ = env.step(action)  \n",
        "                    env.render()               \n",
        "                episode_reward += reward\n",
        "                state = next_state\n",
        "\n",
        "            episode_rewards.append(episode_reward)\n",
        "            # plot(episode_rewards)\n",
        "            print('Episode: {}  | Reward:  {}'.format(i_episode, episode_reward)) '''"
      ],
      "metadata": {
        "id": "cfBzmLBxITng"
      },
      "execution_count": null,
      "outputs": []
    }
  ],
  "metadata": {
    "kernelspec": {
      "display_name": "Python 3.9.5 64-bit ('3.9.5')",
      "language": "python",
      "name": "python3"
    },
    "language_info": {
      "codemirror_mode": {
        "name": "ipython",
        "version": 3
      },
      "file_extension": ".py",
      "mimetype": "text/x-python",
      "name": "python",
      "nbconvert_exporter": "python",
      "pygments_lexer": "ipython3",
      "version": "3.9.5"
    },
    "orig_nbformat": 4,
    "vscode": {
      "interpreter": {
        "hash": "c253361ddad0a4de07aff575a0b7120d669ad16e1d613d635c59bc2ada445499"
      }
    },
    "colab": {
      "provenance": []
    }
  },
  "nbformat": 4,
  "nbformat_minor": 0
}